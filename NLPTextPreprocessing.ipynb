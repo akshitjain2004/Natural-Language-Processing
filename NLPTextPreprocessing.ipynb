{
  "nbformat": 4,
  "nbformat_minor": 0,
  "metadata": {
    "colab": {
      "provenance": [],
      "authorship_tag": "ABX9TyMwqPvDYUY6F77FZELaBtIA",
      "include_colab_link": true
    },
    "kernelspec": {
      "name": "python3",
      "display_name": "Python 3"
    },
    "language_info": {
      "name": "python"
    }
  },
  "cells": [
    {
      "cell_type": "markdown",
      "metadata": {
        "id": "view-in-github",
        "colab_type": "text"
      },
      "source": [
        "<a href=\"https://colab.research.google.com/github/akshitjain2004/Natural-Language-Processing/blob/main/NLPTextPreprocessing.ipynb\" target=\"_parent\"><img src=\"https://colab.research.google.com/assets/colab-badge.svg\" alt=\"Open In Colab\"/></a>"
      ]
    },
    {
      "cell_type": "code",
      "execution_count": 1,
      "metadata": {
        "colab": {
          "base_uri": "https://localhost:8080/"
        },
        "id": "dGYpE_4HrGTO",
        "outputId": "44246d36-59d3-4ef2-9779-d83d9c0facc6"
      },
      "outputs": [
        {
          "output_type": "stream",
          "name": "stdout",
          "text": [
            "Requirement already satisfied: nltk in /usr/local/lib/python3.10/dist-packages (3.8.1)\n",
            "Requirement already satisfied: click in /usr/local/lib/python3.10/dist-packages (from nltk) (8.1.7)\n",
            "Requirement already satisfied: joblib in /usr/local/lib/python3.10/dist-packages (from nltk) (1.3.2)\n",
            "Requirement already satisfied: regex>=2021.8.3 in /usr/local/lib/python3.10/dist-packages (from nltk) (2023.12.25)\n",
            "Requirement already satisfied: tqdm in /usr/local/lib/python3.10/dist-packages (from nltk) (4.66.2)\n"
          ]
        }
      ],
      "source": [
        "#Installing natural language tool kit\n",
        "!pip install nltk"
      ]
    },
    {
      "cell_type": "code",
      "source": [
        "paragraph = \"\"\"\n",
        "Mark Elliot Zuckerberg (/ˈzʌkərbɜːrɡ/; born May 14, 1984) is an American businessman and philanthropist. He co-founded the social media service Facebook, along with his Harvard roommates in 2004, and its parent company Meta Platforms (formerly Facebook, Inc.), of which he is executive chairman, chief executive officer and controlling shareholder.\n",
        "\n",
        "Zuckerberg briefly attended Harvard University, where he launched Facebook in February 2004 with his roommates Eduardo Saverin, Andrew McCollum, Dustin Moskovitz and Chris Hughes. Originally launched in only select college campuses, the site expanded rapidly and eventually beyond colleges, reaching one billion users in 2012. Zuckerberg took the company public in May 2012 with majority shares. In 2007, at age 23, he was the world's youngest self-made billionaire at the time. He has since used his funds to organize multiple philanthropic endeavors, including the establishment of the Chan Zuckerberg Initiative.\n",
        "\n",
        "\"\"\""
      ],
      "metadata": {
        "id": "6mjdDipeulwB"
      },
      "execution_count": 2,
      "outputs": []
    },
    {
      "cell_type": "code",
      "source": [
        "paragraph"
      ],
      "metadata": {
        "colab": {
          "base_uri": "https://localhost:8080/",
          "height": 140
        },
        "id": "-3fAlSzGz6lJ",
        "outputId": "c0ba5af1-c046-4ab8-bdb5-27eb90fd35fc"
      },
      "execution_count": 3,
      "outputs": [
        {
          "output_type": "execute_result",
          "data": {
            "text/plain": [
              "\"\\nMark Elliot Zuckerberg (/ˈzʌkərbɜːrɡ/; born May 14, 1984) is an American businessman and philanthropist. He co-founded the social media service Facebook, along with his Harvard roommates in 2004, and its parent company Meta Platforms (formerly Facebook, Inc.), of which he is executive chairman, chief executive officer and controlling shareholder.\\n\\nZuckerberg briefly attended Harvard University, where he launched Facebook in February 2004 with his roommates Eduardo Saverin, Andrew McCollum, Dustin Moskovitz and Chris Hughes. Originally launched in only select college campuses, the site expanded rapidly and eventually beyond colleges, reaching one billion users in 2012. Zuckerberg took the company public in May 2012 with majority shares. In 2007, at age 23, he was the world's youngest self-made billionaire at the time. He has since used his funds to organize multiple philanthropic endeavors, including the establishment of the Chan Zuckerberg Initiative.\\n\\n\""
            ],
            "application/vnd.google.colaboratory.intrinsic+json": {
              "type": "string"
            }
          },
          "metadata": {},
          "execution_count": 3
        }
      ]
    },
    {
      "cell_type": "code",
      "source": [
        "import nltk\n",
        "from nltk.stem import PorterStemmer\n",
        "from nltk.corpus import stopwords"
      ],
      "metadata": {
        "id": "vhj_GI3T0Ix5"
      },
      "execution_count": 4,
      "outputs": []
    },
    {
      "cell_type": "code",
      "source": [
        "#tokenization converting paragraph->sentences->words\n",
        "\n",
        "## firstly paragraph to sentence\n",
        "nltk.download('punkt')\n",
        "nltk.download('stopwords')\n",
        "sentences = nltk.sent_tokenize(paragraph)"
      ],
      "metadata": {
        "colab": {
          "base_uri": "https://localhost:8080/"
        },
        "id": "9B6C_fUk0kVf",
        "outputId": "6f79c47e-d133-44f6-c2eb-ca2d32285991"
      },
      "execution_count": 5,
      "outputs": [
        {
          "output_type": "stream",
          "name": "stderr",
          "text": [
            "[nltk_data] Downloading package punkt to /root/nltk_data...\n",
            "[nltk_data]   Unzipping tokenizers/punkt.zip.\n",
            "[nltk_data] Downloading package stopwords to /root/nltk_data...\n",
            "[nltk_data]   Unzipping corpora/stopwords.zip.\n"
          ]
        }
      ]
    },
    {
      "cell_type": "code",
      "source": [
        "sentences"
      ],
      "metadata": {
        "colab": {
          "base_uri": "https://localhost:8080/"
        },
        "id": "t1qLDKM21CBJ",
        "outputId": "c7b4ed0a-f882-4fcd-d685-fad16ada2d06"
      },
      "execution_count": 6,
      "outputs": [
        {
          "output_type": "execute_result",
          "data": {
            "text/plain": [
              "['\\nMark Elliot Zuckerberg (/ˈzʌkərbɜːrɡ/; born May 14, 1984) is an American businessman and philanthropist.',\n",
              " 'He co-founded the social media service Facebook, along with his Harvard roommates in 2004, and its parent company Meta Platforms (formerly Facebook, Inc.), of which he is executive chairman, chief executive officer and controlling shareholder.',\n",
              " 'Zuckerberg briefly attended Harvard University, where he launched Facebook in February 2004 with his roommates Eduardo Saverin, Andrew McCollum, Dustin Moskovitz and Chris Hughes.',\n",
              " 'Originally launched in only select college campuses, the site expanded rapidly and eventually beyond colleges, reaching one billion users in 2012.',\n",
              " 'Zuckerberg took the company public in May 2012 with majority shares.',\n",
              " \"In 2007, at age 23, he was the world's youngest self-made billionaire at the time.\",\n",
              " 'He has since used his funds to organize multiple philanthropic endeavors, including the establishment of the Chan Zuckerberg Initiative.']"
            ]
          },
          "metadata": {},
          "execution_count": 6
        }
      ]
    },
    {
      "cell_type": "code",
      "source": [
        "stemmer = PorterStemmer()"
      ],
      "metadata": {
        "id": "ZXK9IYwx1Rw_"
      },
      "execution_count": 7,
      "outputs": []
    },
    {
      "cell_type": "code",
      "source": [
        "##example\n",
        "stemmer.stem('going')"
      ],
      "metadata": {
        "colab": {
          "base_uri": "https://localhost:8080/",
          "height": 36
        },
        "id": "Add9djVX1Vhq",
        "outputId": "051047e8-59d5-4ace-ca6a-2d7995a9f81d"
      },
      "execution_count": 8,
      "outputs": [
        {
          "output_type": "execute_result",
          "data": {
            "text/plain": [
              "'go'"
            ],
            "application/vnd.google.colaboratory.intrinsic+json": {
              "type": "string"
            }
          },
          "metadata": {},
          "execution_count": 8
        }
      ]
    },
    {
      "cell_type": "code",
      "source": [
        "from nltk.stem import WordNetLemmatizer"
      ],
      "metadata": {
        "id": "JNCWDSbO1jOW"
      },
      "execution_count": 9,
      "outputs": []
    },
    {
      "cell_type": "code",
      "source": [
        "lemmatizer= WordNetLemmatizer()"
      ],
      "metadata": {
        "id": "twWR2m-y2DSs"
      },
      "execution_count": 10,
      "outputs": []
    },
    {
      "cell_type": "code",
      "source": [
        "nltk.download('wordnet')"
      ],
      "metadata": {
        "colab": {
          "base_uri": "https://localhost:8080/"
        },
        "id": "2rfOEyEO3C53",
        "outputId": "f7e6eb28-37c6-4309-f656-ddd274c15a9c"
      },
      "execution_count": 11,
      "outputs": [
        {
          "output_type": "stream",
          "name": "stderr",
          "text": [
            "[nltk_data] Downloading package wordnet to /root/nltk_data...\n"
          ]
        },
        {
          "output_type": "execute_result",
          "data": {
            "text/plain": [
              "True"
            ]
          },
          "metadata": {},
          "execution_count": 11
        }
      ]
    },
    {
      "cell_type": "code",
      "source": [
        "lemmatizer.lemmatize('drinking')"
      ],
      "metadata": {
        "colab": {
          "base_uri": "https://localhost:8080/",
          "height": 36
        },
        "id": "Tz0nhoD-2wcL",
        "outputId": "f7599f19-8361-414a-b2de-2f234b350bf9"
      },
      "execution_count": 12,
      "outputs": [
        {
          "output_type": "execute_result",
          "data": {
            "text/plain": [
              "'drinking'"
            ],
            "application/vnd.google.colaboratory.intrinsic+json": {
              "type": "string"
            }
          },
          "metadata": {},
          "execution_count": 12
        }
      ]
    },
    {
      "cell_type": "code",
      "source": [
        "len(sentences)"
      ],
      "metadata": {
        "colab": {
          "base_uri": "https://localhost:8080/"
        },
        "id": "phQOmYCB3kgc",
        "outputId": "680adc07-c25f-408e-f701-9dfba55a75c3"
      },
      "execution_count": 13,
      "outputs": [
        {
          "output_type": "execute_result",
          "data": {
            "text/plain": [
              "7"
            ]
          },
          "metadata": {},
          "execution_count": 13
        }
      ]
    },
    {
      "cell_type": "code",
      "source": [
        "#cleaning the text special char and all\n",
        "import re\n",
        "#importing regular expression\n",
        "corpus=[]\n",
        "for i in range(len(sentences)):\n",
        "  #whatever we are getting other than a-z A-Z remove it and replace with blank space\n",
        "  review =re.sub('[^a-zA-Z]',' ',sentences[i])\n",
        "  review=review.lower()\n",
        "  review=review.split()\n",
        "  corpus.append(review)"
      ],
      "metadata": {
        "id": "42pJmLzF3FeZ"
      },
      "execution_count": 14,
      "outputs": []
    },
    {
      "cell_type": "code",
      "source": [
        "print(corpus)\n"
      ],
      "metadata": {
        "colab": {
          "base_uri": "https://localhost:8080/"
        },
        "id": "Twcrk4rU4dgJ",
        "outputId": "7b572b51-2568-4f28-99f1-6d7ba9577db9"
      },
      "execution_count": 15,
      "outputs": [
        {
          "output_type": "stream",
          "name": "stdout",
          "text": [
            "[['mark', 'elliot', 'zuckerberg', 'z', 'k', 'rb', 'r', 'born', 'may', 'is', 'an', 'american', 'businessman', 'and', 'philanthropist'], ['he', 'co', 'founded', 'the', 'social', 'media', 'service', 'facebook', 'along', 'with', 'his', 'harvard', 'roommates', 'in', 'and', 'its', 'parent', 'company', 'meta', 'platforms', 'formerly', 'facebook', 'inc', 'of', 'which', 'he', 'is', 'executive', 'chairman', 'chief', 'executive', 'officer', 'and', 'controlling', 'shareholder'], ['zuckerberg', 'briefly', 'attended', 'harvard', 'university', 'where', 'he', 'launched', 'facebook', 'in', 'february', 'with', 'his', 'roommates', 'eduardo', 'saverin', 'andrew', 'mccollum', 'dustin', 'moskovitz', 'and', 'chris', 'hughes'], ['originally', 'launched', 'in', 'only', 'select', 'college', 'campuses', 'the', 'site', 'expanded', 'rapidly', 'and', 'eventually', 'beyond', 'colleges', 'reaching', 'one', 'billion', 'users', 'in'], ['zuckerberg', 'took', 'the', 'company', 'public', 'in', 'may', 'with', 'majority', 'shares'], ['in', 'at', 'age', 'he', 'was', 'the', 'world', 's', 'youngest', 'self', 'made', 'billionaire', 'at', 'the', 'time'], ['he', 'has', 'since', 'used', 'his', 'funds', 'to', 'organize', 'multiple', 'philanthropic', 'endeavors', 'including', 'the', 'establishment', 'of', 'the', 'chan', 'zuckerberg', 'initiative']]\n"
          ]
        }
      ]
    },
    {
      "cell_type": "code",
      "source": [
        "stopwords.words('english')"
      ],
      "metadata": {
        "colab": {
          "base_uri": "https://localhost:8080/"
        },
        "id": "t4AfujzH6J4i",
        "outputId": "cdedc221-d882-4d81-a3bf-1794cfefe094"
      },
      "execution_count": 16,
      "outputs": [
        {
          "output_type": "execute_result",
          "data": {
            "text/plain": [
              "['i',\n",
              " 'me',\n",
              " 'my',\n",
              " 'myself',\n",
              " 'we',\n",
              " 'our',\n",
              " 'ours',\n",
              " 'ourselves',\n",
              " 'you',\n",
              " \"you're\",\n",
              " \"you've\",\n",
              " \"you'll\",\n",
              " \"you'd\",\n",
              " 'your',\n",
              " 'yours',\n",
              " 'yourself',\n",
              " 'yourselves',\n",
              " 'he',\n",
              " 'him',\n",
              " 'his',\n",
              " 'himself',\n",
              " 'she',\n",
              " \"she's\",\n",
              " 'her',\n",
              " 'hers',\n",
              " 'herself',\n",
              " 'it',\n",
              " \"it's\",\n",
              " 'its',\n",
              " 'itself',\n",
              " 'they',\n",
              " 'them',\n",
              " 'their',\n",
              " 'theirs',\n",
              " 'themselves',\n",
              " 'what',\n",
              " 'which',\n",
              " 'who',\n",
              " 'whom',\n",
              " 'this',\n",
              " 'that',\n",
              " \"that'll\",\n",
              " 'these',\n",
              " 'those',\n",
              " 'am',\n",
              " 'is',\n",
              " 'are',\n",
              " 'was',\n",
              " 'were',\n",
              " 'be',\n",
              " 'been',\n",
              " 'being',\n",
              " 'have',\n",
              " 'has',\n",
              " 'had',\n",
              " 'having',\n",
              " 'do',\n",
              " 'does',\n",
              " 'did',\n",
              " 'doing',\n",
              " 'a',\n",
              " 'an',\n",
              " 'the',\n",
              " 'and',\n",
              " 'but',\n",
              " 'if',\n",
              " 'or',\n",
              " 'because',\n",
              " 'as',\n",
              " 'until',\n",
              " 'while',\n",
              " 'of',\n",
              " 'at',\n",
              " 'by',\n",
              " 'for',\n",
              " 'with',\n",
              " 'about',\n",
              " 'against',\n",
              " 'between',\n",
              " 'into',\n",
              " 'through',\n",
              " 'during',\n",
              " 'before',\n",
              " 'after',\n",
              " 'above',\n",
              " 'below',\n",
              " 'to',\n",
              " 'from',\n",
              " 'up',\n",
              " 'down',\n",
              " 'in',\n",
              " 'out',\n",
              " 'on',\n",
              " 'off',\n",
              " 'over',\n",
              " 'under',\n",
              " 'again',\n",
              " 'further',\n",
              " 'then',\n",
              " 'once',\n",
              " 'here',\n",
              " 'there',\n",
              " 'when',\n",
              " 'where',\n",
              " 'why',\n",
              " 'how',\n",
              " 'all',\n",
              " 'any',\n",
              " 'both',\n",
              " 'each',\n",
              " 'few',\n",
              " 'more',\n",
              " 'most',\n",
              " 'other',\n",
              " 'some',\n",
              " 'such',\n",
              " 'no',\n",
              " 'nor',\n",
              " 'not',\n",
              " 'only',\n",
              " 'own',\n",
              " 'same',\n",
              " 'so',\n",
              " 'than',\n",
              " 'too',\n",
              " 'very',\n",
              " 's',\n",
              " 't',\n",
              " 'can',\n",
              " 'will',\n",
              " 'just',\n",
              " 'don',\n",
              " \"don't\",\n",
              " 'should',\n",
              " \"should've\",\n",
              " 'now',\n",
              " 'd',\n",
              " 'll',\n",
              " 'm',\n",
              " 'o',\n",
              " 're',\n",
              " 've',\n",
              " 'y',\n",
              " 'ain',\n",
              " 'aren',\n",
              " \"aren't\",\n",
              " 'couldn',\n",
              " \"couldn't\",\n",
              " 'didn',\n",
              " \"didn't\",\n",
              " 'doesn',\n",
              " \"doesn't\",\n",
              " 'hadn',\n",
              " \"hadn't\",\n",
              " 'hasn',\n",
              " \"hasn't\",\n",
              " 'haven',\n",
              " \"haven't\",\n",
              " 'isn',\n",
              " \"isn't\",\n",
              " 'ma',\n",
              " 'mightn',\n",
              " \"mightn't\",\n",
              " 'mustn',\n",
              " \"mustn't\",\n",
              " 'needn',\n",
              " \"needn't\",\n",
              " 'shan',\n",
              " \"shan't\",\n",
              " 'shouldn',\n",
              " \"shouldn't\",\n",
              " 'wasn',\n",
              " \"wasn't\",\n",
              " 'weren',\n",
              " \"weren't\",\n",
              " 'won',\n",
              " \"won't\",\n",
              " 'wouldn',\n",
              " \"wouldn't\"]"
            ]
          },
          "metadata": {},
          "execution_count": 16
        }
      ]
    },
    {
      "cell_type": "code",
      "source": [
        "##stemming\n",
        "for i in corpus:\n",
        "  words = nltk.word_tokenize(str(i))\n",
        "  for word in words:\n",
        "    if word in set(stopwords.words('english')):\n",
        "      print(lemmatizer.lemmatize(word))"
      ],
      "metadata": {
        "id": "8-gT0Rri4w2t"
      },
      "execution_count": 17,
      "outputs": []
    },
    {
      "cell_type": "code",
      "source": [
        "print(corpus)"
      ],
      "metadata": {
        "colab": {
          "base_uri": "https://localhost:8080/"
        },
        "id": "b7GvFXBK41_i",
        "outputId": "c808f242-d133-421c-f360-ac002444ce01"
      },
      "execution_count": 18,
      "outputs": [
        {
          "output_type": "stream",
          "name": "stdout",
          "text": [
            "[['mark', 'elliot', 'zuckerberg', 'z', 'k', 'rb', 'r', 'born', 'may', 'is', 'an', 'american', 'businessman', 'and', 'philanthropist'], ['he', 'co', 'founded', 'the', 'social', 'media', 'service', 'facebook', 'along', 'with', 'his', 'harvard', 'roommates', 'in', 'and', 'its', 'parent', 'company', 'meta', 'platforms', 'formerly', 'facebook', 'inc', 'of', 'which', 'he', 'is', 'executive', 'chairman', 'chief', 'executive', 'officer', 'and', 'controlling', 'shareholder'], ['zuckerberg', 'briefly', 'attended', 'harvard', 'university', 'where', 'he', 'launched', 'facebook', 'in', 'february', 'with', 'his', 'roommates', 'eduardo', 'saverin', 'andrew', 'mccollum', 'dustin', 'moskovitz', 'and', 'chris', 'hughes'], ['originally', 'launched', 'in', 'only', 'select', 'college', 'campuses', 'the', 'site', 'expanded', 'rapidly', 'and', 'eventually', 'beyond', 'colleges', 'reaching', 'one', 'billion', 'users', 'in'], ['zuckerberg', 'took', 'the', 'company', 'public', 'in', 'may', 'with', 'majority', 'shares'], ['in', 'at', 'age', 'he', 'was', 'the', 'world', 's', 'youngest', 'self', 'made', 'billionaire', 'at', 'the', 'time'], ['he', 'has', 'since', 'used', 'his', 'funds', 'to', 'organize', 'multiple', 'philanthropic', 'endeavors', 'including', 'the', 'establishment', 'of', 'the', 'chan', 'zuckerberg', 'initiative']]\n"
          ]
        }
      ]
    },
    {
      "cell_type": "code",
      "source": [
        "print(words)"
      ],
      "metadata": {
        "colab": {
          "base_uri": "https://localhost:8080/"
        },
        "id": "kR5GmCpd8i3F",
        "outputId": "5ea5d625-540e-4c04-975b-18af4d37ef5d"
      },
      "execution_count": 19,
      "outputs": [
        {
          "output_type": "stream",
          "name": "stdout",
          "text": [
            "['[', \"'he\", \"'\", ',', \"'has\", \"'\", ',', \"'since\", \"'\", ',', \"'used\", \"'\", ',', \"'his\", \"'\", ',', \"'funds\", \"'\", ',', \"'to\", \"'\", ',', \"'organize\", \"'\", ',', \"'multiple\", \"'\", ',', \"'philanthropic\", \"'\", ',', \"'endeavors\", \"'\", ',', \"'including\", \"'\", ',', \"'the\", \"'\", ',', \"'establishment\", \"'\", ',', \"'of\", \"'\", ',', \"'the\", \"'\", ',', \"'chan\", \"'\", ',', \"'zuckerberg\", \"'\", ',', \"'initiative\", \"'\", ']']\n"
          ]
        }
      ]
    },
    {
      "cell_type": "markdown",
      "source": [],
      "metadata": {
        "id": "6NrYT76Dopai"
      }
    },
    {
      "cell_type": "code",
      "source": [
        "!pip install scikit-learn"
      ],
      "metadata": {
        "colab": {
          "base_uri": "https://localhost:8080/"
        },
        "id": "_ZOhMry2on49",
        "outputId": "aedf9e5a-2429-4fd6-e4e1-b68fc0981c23"
      },
      "execution_count": 22,
      "outputs": [
        {
          "output_type": "stream",
          "name": "stdout",
          "text": [
            "Requirement already satisfied: scikit-learn in /usr/local/lib/python3.10/dist-packages (1.2.2)\n",
            "Requirement already satisfied: numpy>=1.17.3 in /usr/local/lib/python3.10/dist-packages (from scikit-learn) (1.25.2)\n",
            "Requirement already satisfied: scipy>=1.3.2 in /usr/local/lib/python3.10/dist-packages (from scikit-learn) (1.11.4)\n",
            "Requirement already satisfied: joblib>=1.1.1 in /usr/local/lib/python3.10/dist-packages (from scikit-learn) (1.3.2)\n",
            "Requirement already satisfied: threadpoolctl>=2.0.0 in /usr/local/lib/python3.10/dist-packages (from scikit-learn) (3.3.0)\n"
          ]
        }
      ]
    },
    {
      "cell_type": "code",
      "source": [
        "from sklearn.feature_extraction.text import CountVectorizer\n",
        "cv = CountVectorizer()"
      ],
      "metadata": {
        "id": "G1qv5DDR8mPC"
      },
      "execution_count": 23,
      "outputs": []
    },
    {
      "cell_type": "code",
      "source": [
        "print(type(corpus))"
      ],
      "metadata": {
        "colab": {
          "base_uri": "https://localhost:8080/"
        },
        "id": "cg6nCWy79I1x",
        "outputId": "34cefe6a-82f4-4e44-9d63-d9e0f81e53d8"
      },
      "execution_count": 26,
      "outputs": [
        {
          "output_type": "stream",
          "name": "stdout",
          "text": [
            "<class 'list'>\n"
          ]
        }
      ]
    },
    {
      "cell_type": "code",
      "source": [
        "print(corpus)"
      ],
      "metadata": {
        "id": "5DD_DkuB9Y7g",
        "colab": {
          "base_uri": "https://localhost:8080/"
        },
        "outputId": "61c243a5-5ba0-49dc-86b2-d081d53172ea"
      },
      "execution_count": 27,
      "outputs": [
        {
          "output_type": "stream",
          "name": "stdout",
          "text": [
            "[['mark', 'elliot', 'zuckerberg', 'z', 'k', 'rb', 'r', 'born', 'may', 'is', 'an', 'american', 'businessman', 'and', 'philanthropist'], ['he', 'co', 'founded', 'the', 'social', 'media', 'service', 'facebook', 'along', 'with', 'his', 'harvard', 'roommates', 'in', 'and', 'its', 'parent', 'company', 'meta', 'platforms', 'formerly', 'facebook', 'inc', 'of', 'which', 'he', 'is', 'executive', 'chairman', 'chief', 'executive', 'officer', 'and', 'controlling', 'shareholder'], ['zuckerberg', 'briefly', 'attended', 'harvard', 'university', 'where', 'he', 'launched', 'facebook', 'in', 'february', 'with', 'his', 'roommates', 'eduardo', 'saverin', 'andrew', 'mccollum', 'dustin', 'moskovitz', 'and', 'chris', 'hughes'], ['originally', 'launched', 'in', 'only', 'select', 'college', 'campuses', 'the', 'site', 'expanded', 'rapidly', 'and', 'eventually', 'beyond', 'colleges', 'reaching', 'one', 'billion', 'users', 'in'], ['zuckerberg', 'took', 'the', 'company', 'public', 'in', 'may', 'with', 'majority', 'shares'], ['in', 'at', 'age', 'he', 'was', 'the', 'world', 's', 'youngest', 'self', 'made', 'billionaire', 'at', 'the', 'time'], ['he', 'has', 'since', 'used', 'his', 'funds', 'to', 'organize', 'multiple', 'philanthropic', 'endeavors', 'including', 'the', 'establishment', 'of', 'the', 'chan', 'zuckerberg', 'initiative']]\n"
          ]
        }
      ]
    }
  ]
}